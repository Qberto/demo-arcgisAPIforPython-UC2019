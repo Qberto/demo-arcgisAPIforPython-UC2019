{
 "cells": [
  {
   "cell_type": "markdown",
   "metadata": {
    "slideshow": {
     "slide_type": "slide"
    }
   },
   "source": [
    "# <span style=\"color:purple\">ArcGIS API for Python</span>\n",
    "\n",
    "<img src=\"img/02logo.PNG\" style=\"width:50%\"></img>\n",
    "\n",
    "## Demo: Administrative Management of Users, Roles & Groups"
   ]
  },
  {
   "cell_type": "markdown",
   "metadata": {},
   "source": [
    "### Are you frustrated with all the manual administration of users, groups, and items you have to do on your web GIS?\n",
    "\n",
    "<img src=\"img/tangled_cables.jpg\" style=\"width:100%\"></img>"
   ]
  },
  {
   "cell_type": "markdown",
   "metadata": {},
   "source": [
    "### Fear no more! \n",
    "\n",
    "### In this demo, we will go over a few workflows to show how the ArcGIS API can help administrators of Web GIS."
   ]
  },
  {
   "cell_type": "markdown",
   "metadata": {},
   "source": [
    "Let's import a few modules. We are importing getpass to provide the GIS object with a password in a safe manner."
   ]
  },
  {
   "cell_type": "code",
   "execution_count": 1,
   "metadata": {},
   "outputs": [],
   "source": [
    "from arcgis.gis import *\n",
    "\n",
    "from IPython.display import display"
   ]
  },
  {
   "cell_type": "markdown",
   "metadata": {},
   "source": [
    "Let's call our GIS object and pass a local Portal."
   ]
  },
  {
   "cell_type": "code",
   "execution_count": 2,
   "metadata": {},
   "outputs": [
    {
     "name": "stdout",
     "output_type": "stream",
     "text": [
      "Enter password: ········\n"
     ]
    }
   ],
   "source": [
    "gis = GIS(\"https://datasciencedemo.esri.com/portal\", \"anieto\")"
   ]
  },
  {
   "cell_type": "code",
   "execution_count": 3,
   "metadata": {},
   "outputs": [
    {
     "data": {
      "text/html": [
       "GIS @ <a href=\"https://datasciencedemo.esri.com/portal\">https://datasciencedemo.esri.com/portal</a>"
      ],
      "text/plain": [
       "GIS @ https://datasciencedemo.esri.com/portal version:7.1"
      ]
     },
     "execution_count": 3,
     "metadata": {},
     "output_type": "execute_result"
    }
   ],
   "source": [
    "gis"
   ]
  },
  {
   "cell_type": "markdown",
   "metadata": {},
   "source": [
    "### Querying for users"
   ]
  },
  {
   "cell_type": "markdown",
   "metadata": {},
   "source": [
    "Let's run a full query for listed users:"
   ]
  },
  {
   "cell_type": "code",
   "execution_count": null,
   "metadata": {},
   "outputs": [],
   "source": [
    "gis.users."
   ]
  },
  {
   "cell_type": "code",
   "execution_count": 4,
   "metadata": {
    "scrolled": true
   },
   "outputs": [
    {
     "data": {
      "text/plain": [
       "[<User username:allenlu2008>,\n",
       " <User username:anieto>,\n",
       " <User username:arcgis>,\n",
       " <User username:boneill>,\n",
       " <User username:bstayer>,\n",
       " <User username:CAlexander>,\n",
       " <User username:CArnold>,\n",
       " <User username:CBlevins>,\n",
       " <User username:CBruno>,\n",
       " <User username:ccleveland>,\n",
       " <User username:flora_vale>,\n",
       " <User username:fmuresu>,\n",
       " <User username:gerardoesri_Notebook>,\n",
       " <User username:hcurtis>,\n",
       " <User username:holoai>,\n",
       " <User username:jfraley>,\n",
       " <User username:jjones>,\n",
       " <User username:khuberwilker>,\n",
       " <User username:lsgriffin>,\n",
       " <User username:lyra77>,\n",
       " <User username:lzhang>,\n",
       " <User username:portaladmin>,\n",
       " <User username:RBooth>,\n",
       " <User username:sharing>,\n",
       " <User username:sishui198>,\n",
       " <User username:TAnderson>,\n",
       " <User username:test_notebook>,\n",
       " <User username:xiaoxi>,\n",
       " <User username:xpholoai>,\n",
       " <User username:zhouning>]"
      ]
     },
     "execution_count": 4,
     "metadata": {},
     "output_type": "execute_result"
    }
   ],
   "source": [
    "gis.users.search()"
   ]
  },
  {
   "cell_type": "markdown",
   "metadata": {},
   "source": [
    "Filter your user search..."
   ]
  },
  {
   "cell_type": "code",
   "execution_count": 5,
   "metadata": {},
   "outputs": [
    {
     "data": {
      "text/plain": [
       "[<User username:anieto>]"
      ]
     },
     "execution_count": 5,
     "metadata": {},
     "output_type": "execute_result"
    }
   ],
   "source": [
    "gis.users.search(\"nieto\")"
   ]
  },
  {
   "cell_type": "markdown",
   "metadata": {},
   "source": [
    "Let's search for my colleague, Shannon"
   ]
  },
  {
   "cell_type": "code",
   "execution_count": 6,
   "metadata": {},
   "outputs": [
    {
     "data": {
      "text/plain": [
       "[]"
      ]
     },
     "execution_count": 6,
     "metadata": {},
     "output_type": "execute_result"
    }
   ],
   "source": [
    "gis.users.search(\"Shannon\")"
   ]
  },
  {
   "cell_type": "markdown",
   "metadata": {},
   "source": [
    "### Create a new user"
   ]
  },
  {
   "cell_type": "markdown",
   "metadata": {},
   "source": [
    "Users can be created through the API"
   ]
  },
  {
   "cell_type": "code",
   "execution_count": null,
   "metadata": {},
   "outputs": [],
   "source": [
    "gis.users.create()"
   ]
  },
  {
   "cell_type": "code",
   "execution_count": 7,
   "metadata": {},
   "outputs": [
    {
     "data": {
      "text/html": [
       "<div class=\"9item_container\" style=\"height: auto; overflow: hidden; border: 1px solid #cfcfcf; border-radius: 2px; background: #f6fafa; line-height: 1.21429em; padding: 10px;\">\n",
       "                    <div class=\"item_left\" style=\"width: 210px; float: left;\">\n",
       "                       <a href='https://datasciencedemo.esri.com/portal/home/user.html?user=skalisky' target='_blank'>\n",
       "                        <img src='https://datasciencedemo.esri.com/portal/home/js/arcgisonline/css/images/no-user-thumb.jpg' class=\"itemThumbnail\">\n",
       "                       </a>\n",
       "                    </div>\n",
       "\n",
       "                    <div class=\"item_right\" style=\"float: none; width: auto; overflow: hidden;\">\n",
       "                        <a href='https://datasciencedemo.esri.com/portal/home/user.html?user=skalisky' target='_blank'><b>Shannon Kalisky</b>\n",
       "                        </a>\n",
       "                        <br/><br/><b>Bio</b>: None\n",
       "                        <br/><b>First Name</b>: Shannon\n",
       "                        <br/><b>Last Name</b>: Kalisky\n",
       "                        <br/><b>Username</b>: skalisky\n",
       "                        <br/><b>Joined</b>: July 10, 2019\n",
       "\n",
       "                    </div>\n",
       "                </div>\n",
       "                "
      ],
      "text/plain": [
       "<User username:skalisky>"
      ]
     },
     "execution_count": 7,
     "metadata": {},
     "output_type": "execute_result"
    }
   ],
   "source": [
    "shannon = gis.users.create(username = \"skalisky\", \n",
    "                           password = \"GoGators4Ever\",\n",
    "                           firstname = \"Shannon\",\n",
    "                           lastname = \"Kalisky\",\n",
    "                           email = \"skalisky@esri.com\",\n",
    "                           role = \"org_user\")\n",
    "shannon"
   ]
  },
  {
   "cell_type": "markdown",
   "metadata": {},
   "source": [
    "This variable is now a \"user\" object"
   ]
  },
  {
   "cell_type": "code",
   "execution_count": 8,
   "metadata": {},
   "outputs": [
    {
     "data": {
      "text/plain": [
       "arcgis.gis.User"
      ]
     },
     "execution_count": 8,
     "metadata": {},
     "output_type": "execute_result"
    }
   ],
   "source": [
    "type(shannon)"
   ]
  },
  {
   "cell_type": "markdown",
   "metadata": {},
   "source": [
    "Use intellisense to see all the options you have available with user objects."
   ]
  },
  {
   "cell_type": "code",
   "execution_count": null,
   "metadata": {},
   "outputs": [],
   "source": [
    "shannon."
   ]
  },
  {
   "cell_type": "code",
   "execution_count": 9,
   "metadata": {},
   "outputs": [
    {
     "data": {
      "text/plain": [
       "'skalisky@esri.com'"
      ]
     },
     "execution_count": 9,
     "metadata": {},
     "output_type": "execute_result"
    }
   ],
   "source": [
    "shannon.email"
   ]
  },
  {
   "cell_type": "code",
   "execution_count": 10,
   "metadata": {
    "scrolled": true
   },
   "outputs": [
    {
     "data": {
      "text/plain": [
       "True"
      ]
     },
     "execution_count": 10,
     "metadata": {},
     "output_type": "execute_result"
    }
   ],
   "source": [
    "shannon.delete()"
   ]
  },
  {
   "cell_type": "markdown",
   "metadata": {},
   "source": [
    "### Querying for groups"
   ]
  },
  {
   "cell_type": "code",
   "execution_count": 11,
   "metadata": {},
   "outputs": [
    {
     "data": {
      "text/plain": [
       "[<Group title:\"ArcGIS Notebooks Working Group\" owner:anieto>,\n",
       " <Group title:\"County 1\" owner:anieto>,\n",
       " <Group title:\"County 107\" owner:anieto>,\n",
       " <Group title:\"County 13\" owner:anieto>,\n",
       " <Group title:\"County 153\" owner:anieto>,\n",
       " <Group title:\"County 157\" owner:anieto>,\n",
       " <Group title:\"County 17\" owner:anieto>,\n",
       " <Group title:\"County 177\" owner:anieto>,\n",
       " <Group title:\"County 179\" owner:anieto>,\n",
       " <Group title:\"County 187\" owner:anieto>,\n",
       " <Group title:\"County 21\" owner:anieto>,\n",
       " <Group title:\"County 31\" owner:anieto>,\n",
       " <Group title:\"County 33\" owner:anieto>,\n",
       " <Group title:\"County 43\" owner:anieto>,\n",
       " <Group title:\"County 47\" owner:anieto>,\n",
       " <Group title:\"County 59\" owner:anieto>,\n",
       " <Group title:\"County 61\" owner:anieto>,\n",
       " <Group title:\"County 630\" owner:anieto>,\n",
       " <Group title:\"County 69\" owner:anieto>,\n",
       " <Group title:\"County 9\" owner:anieto>,\n",
       " <Group title:\"Esri Boundary Layers\" owner:esri_boundaries>,\n",
       " <Group title:\"Esri Demographic Layers\" owner:esri_demographics>,\n",
       " <Group title:\"Featured Maps and Apps\" owner:portaladmin>,\n",
       " <Group title:\"Navigator Maps\" owner:esri_nav>,\n",
       " <Group title:\"Site Administration Group\" owner:anieto>,\n",
       " <Group title:\"Spatial Statistics Notebook Working Group\" owner:anieto>,\n",
       " <Group title:\"United States Department of Transportation - Federal Highways Administration - Highway Executive Planning\" owner:anieto>]"
      ]
     },
     "execution_count": 11,
     "metadata": {},
     "output_type": "execute_result"
    }
   ],
   "source": [
    "gis.groups.search()"
   ]
  },
  {
   "cell_type": "markdown",
   "metadata": {},
   "source": [
    "Let's create the group"
   ]
  },
  {
   "cell_type": "code",
   "execution_count": 12,
   "metadata": {
    "scrolled": true
   },
   "outputs": [],
   "source": [
    "# create groups\n",
    "demo_group = gis.groups.create(\"UC2019\", \"Demo; UC\")"
   ]
  },
  {
   "cell_type": "markdown",
   "metadata": {},
   "source": [
    "This is a \"group\" object"
   ]
  },
  {
   "cell_type": "code",
   "execution_count": 13,
   "metadata": {},
   "outputs": [],
   "source": [
    "demo_group?"
   ]
  },
  {
   "cell_type": "code",
   "execution_count": 14,
   "metadata": {
    "scrolled": true
   },
   "outputs": [
    {
     "data": {
      "text/html": [
       "<div class=\"9item_container\" style=\"height: auto; overflow: hidden; border: 1px solid #cfcfcf; border-radius: 2px; background: #f6fafa; line-height: 1.21429em; padding: 10px;\">\n",
       "                    <div class=\"item_left\" style=\"width: 210px; float: left;\">\n",
       "                       <a href='https://datasciencedemo.esri.com/portal/home/group.html?id=e52daa76bc424193886fae9aa402257d' target='_blank'>\n",
       "                        <img src='https://datasciencedemo.esri.com/portal/home/images/group-no-image.png' class=\"itemThumbnail\">\n",
       "                       </a>\n",
       "                    </div>\n",
       "\n",
       "                    <div class=\"item_right\" style=\"float: none; width: auto; overflow: hidden;\">\n",
       "                        <a href='https://datasciencedemo.esri.com/portal/home/group.html?id=e52daa76bc424193886fae9aa402257d' target='_blank'><b>UC2019</b>\n",
       "                        </a>\n",
       "                        <br/>\n",
       "                        <br/><b>Summary</b>: None\n",
       "                        <br/><b>Description</b>: None\n",
       "                        <br/><b>Owner</b>: anieto\n",
       "                        <br/><b>Created</b>: July 10, 2019\n",
       "\n",
       "                    </div>\n",
       "                </div>\n",
       "                "
      ],
      "text/plain": [
       "<Group title:\"UC2019\" owner:anieto>"
      ]
     },
     "execution_count": 14,
     "metadata": {},
     "output_type": "execute_result"
    }
   ],
   "source": [
    "demo_group"
   ]
  },
  {
   "cell_type": "code",
   "execution_count": 15,
   "metadata": {},
   "outputs": [
    {
     "data": {
      "text/plain": [
       "arcgis.gis.Group"
      ]
     },
     "execution_count": 15,
     "metadata": {},
     "output_type": "execute_result"
    }
   ],
   "source": [
    "type(demo_group)"
   ]
  },
  {
   "cell_type": "markdown",
   "metadata": {},
   "source": [
    "Like the user object, it has methods we can call on it"
   ]
  },
  {
   "cell_type": "code",
   "execution_count": null,
   "metadata": {},
   "outputs": [],
   "source": [
    "demo_group."
   ]
  },
  {
   "cell_type": "markdown",
   "metadata": {},
   "source": [
    "## So we know how to query, create, and delete users... now what?"
   ]
  },
  {
   "cell_type": "markdown",
   "metadata": {},
   "source": [
    "# Let's say your boss suddenly gets an idea!\n",
    "\n",
    "<img src=\"img/idea.gif\">\n",
    "\n",
    "## Boss:\n",
    "## \"I want you to create a group for every team in the floor and I want to add every staff member in the DC office to it...\"\n",
    "## \"I also want to add this to multiple portals and ArcGIS Online organizations that the office is responsible for!\"\n",
    "## \"Also, I want to do this fast enough so that we can have it ready in two days for User Conference.\""
   ]
  },
  {
   "cell_type": "markdown",
   "metadata": {},
   "source": [
    "<img src=\"img/tangled_cables.jpg\" style=\"width:100%\"></img>"
   ]
  },
  {
   "cell_type": "markdown",
   "metadata": {},
   "source": [
    "## Have no fear! The ArcGIS API for Python is here to help."
   ]
  },
  {
   "cell_type": "markdown",
   "metadata": {},
   "source": [
    "# Step 1: Use a file containing your staff information to batch create users. This can be repeated for however many portals/organizations you need."
   ]
  },
  {
   "cell_type": "code",
   "execution_count": 16,
   "metadata": {},
   "outputs": [],
   "source": [
    "# Solution Engineer File\n",
    "demo_info_excel = \"data/NS_UserList.xlsx\""
   ]
  },
  {
   "cell_type": "markdown",
   "metadata": {},
   "source": [
    "We're going to import the pandas library to quickly get the data from the excel"
   ]
  },
  {
   "cell_type": "code",
   "execution_count": 17,
   "metadata": {},
   "outputs": [],
   "source": [
    "import pandas as pd"
   ]
  },
  {
   "cell_type": "code",
   "execution_count": 18,
   "metadata": {
    "scrolled": true
   },
   "outputs": [
    {
     "data": {
      "text/html": [
       "<div>\n",
       "<style scoped>\n",
       "    .dataframe tbody tr th:only-of-type {\n",
       "        vertical-align: middle;\n",
       "    }\n",
       "\n",
       "    .dataframe tbody tr th {\n",
       "        vertical-align: top;\n",
       "    }\n",
       "\n",
       "    .dataframe thead th {\n",
       "        text-align: right;\n",
       "    }\n",
       "</style>\n",
       "<table border=\"1\" class=\"dataframe\">\n",
       "  <thead>\n",
       "    <tr style=\"text-align: right;\">\n",
       "      <th></th>\n",
       "      <th>username</th>\n",
       "      <th>firstname</th>\n",
       "      <th>lastname</th>\n",
       "      <th>email</th>\n",
       "      <th>role</th>\n",
       "    </tr>\n",
       "  </thead>\n",
       "  <tbody>\n",
       "    <tr>\n",
       "      <th>0</th>\n",
       "      <td>mwalther</td>\n",
       "      <td>Milq</td>\n",
       "      <td>Walther-Rodriguez</td>\n",
       "      <td>mwalther@esri.com</td>\n",
       "      <td>org_user</td>\n",
       "    </tr>\n",
       "    <tr>\n",
       "      <th>1</th>\n",
       "      <td>klevy</td>\n",
       "      <td>Kate</td>\n",
       "      <td>Levy</td>\n",
       "      <td>klevy@esri.com</td>\n",
       "      <td>org_user</td>\n",
       "    </tr>\n",
       "    <tr>\n",
       "      <th>2</th>\n",
       "      <td>rbernstein</td>\n",
       "      <td>Renee</td>\n",
       "      <td>Bernstein</td>\n",
       "      <td>rbernstein@esri.com</td>\n",
       "      <td>org_user</td>\n",
       "    </tr>\n",
       "    <tr>\n",
       "      <th>3</th>\n",
       "      <td>jfry</td>\n",
       "      <td>John</td>\n",
       "      <td>Fry</td>\n",
       "      <td>jfry@esri.com</td>\n",
       "      <td>org_user</td>\n",
       "    </tr>\n",
       "    <tr>\n",
       "      <th>4</th>\n",
       "      <td>tquink</td>\n",
       "      <td>Tyson</td>\n",
       "      <td>Quink</td>\n",
       "      <td>tquink@esri.com</td>\n",
       "      <td>org_user</td>\n",
       "    </tr>\n",
       "    <tr>\n",
       "      <th>5</th>\n",
       "      <td>agator</td>\n",
       "      <td>Albert</td>\n",
       "      <td>Gator</td>\n",
       "      <td>agator@esri.com</td>\n",
       "      <td>org_user</td>\n",
       "    </tr>\n",
       "    <tr>\n",
       "      <th>6</th>\n",
       "      <td>emapper</td>\n",
       "      <td>Esri</td>\n",
       "      <td>Mapper</td>\n",
       "      <td>emapper@esri.com</td>\n",
       "      <td>org_user</td>\n",
       "    </tr>\n",
       "  </tbody>\n",
       "</table>\n",
       "</div>"
      ],
      "text/plain": [
       "     username firstname           lastname                email      role\n",
       "0    mwalther      Milq  Walther-Rodriguez    mwalther@esri.com  org_user\n",
       "1       klevy      Kate               Levy       klevy@esri.com  org_user\n",
       "2  rbernstein     Renee          Bernstein  rbernstein@esri.com  org_user\n",
       "3        jfry      John                Fry        jfry@esri.com  org_user\n",
       "4      tquink     Tyson              Quink      tquink@esri.com  org_user\n",
       "5      agator    Albert              Gator      agator@esri.com  org_user\n",
       "6     emapper      Esri             Mapper     emapper@esri.com  org_user"
      ]
     },
     "execution_count": 18,
     "metadata": {},
     "output_type": "execute_result"
    }
   ],
   "source": [
    "demo_dataframe = pd.read_excel(demo_info_excel)\n",
    "demo_dataframe"
   ]
  },
  {
   "cell_type": "code",
   "execution_count": 19,
   "metadata": {},
   "outputs": [
    {
     "name": "stdout",
     "output_type": "stream",
     "text": [
      "Creating user mwalther...\n",
      "Creating user klevy...\n",
      "Creating user rbernstein...\n",
      "Creating user jfry...\n",
      "Creating user tquink...\n",
      "Creating user agator...\n",
      "Creating user emapper...\n"
     ]
    }
   ],
   "source": [
    "# Create an empty list that will hold our usernames for all Solution Engineers\n",
    "demo_users_list = []\n",
    "demo_userobjects_list = []\n",
    "dummy_password = \"GoGators4Ever\"\n",
    "\n",
    "# Iterate on each record of the team info file, and create a user for it\n",
    "for index, row in demo_dataframe.iterrows():\n",
    "    # Read from the record\n",
    "    username = row['username']\n",
    "    firstname = row['firstname']\n",
    "    lastname = row['lastname']\n",
    "    email = row['email']\n",
    "    role = row['role']\n",
    "    \n",
    "    print(\"Creating user {0}...\".format(username))\n",
    "    demo_users_list.append(username)\n",
    "    \n",
    "    demo_user = gis.users.create(username=username,\n",
    "                                 password=dummy_password,\n",
    "                                 firstname=firstname,\n",
    "                                 lastname=lastname,\n",
    "                                 email=email,\n",
    "                                 role=role)\n",
    "    \n",
    "    demo_userobjects_list.append(demo_user)"
   ]
  },
  {
   "cell_type": "code",
   "execution_count": 20,
   "metadata": {},
   "outputs": [
    {
     "data": {
      "text/plain": [
       "['mwalther', 'klevy', 'rbernstein', 'jfry', 'tquink', 'agator', 'emapper']"
      ]
     },
     "execution_count": 20,
     "metadata": {},
     "output_type": "execute_result"
    }
   ],
   "source": [
    "demo_users_list"
   ]
  },
  {
   "cell_type": "code",
   "execution_count": 21,
   "metadata": {},
   "outputs": [
    {
     "data": {
      "text/plain": [
       "[<User username:mwalther>,\n",
       " <User username:klevy>,\n",
       " <User username:rbernstein>,\n",
       " <User username:jfry>,\n",
       " <User username:tquink>,\n",
       " <User username:agator>,\n",
       " <User username:emapper>]"
      ]
     },
     "execution_count": 21,
     "metadata": {},
     "output_type": "execute_result"
    }
   ],
   "source": [
    "demo_userobjects_list"
   ]
  },
  {
   "cell_type": "code",
   "execution_count": 22,
   "metadata": {
    "scrolled": true
   },
   "outputs": [
    {
     "data": {
      "text/html": [
       "<div class=\"9item_container\" style=\"height: auto; overflow: hidden; border: 1px solid #cfcfcf; border-radius: 2px; background: #f6fafa; line-height: 1.21429em; padding: 10px;\">\n",
       "                    <div class=\"item_left\" style=\"width: 210px; float: left;\">\n",
       "                       <a href='https://datasciencedemo.esri.com/portal/home/user.html?user=mwalther' target='_blank'>\n",
       "                        <img src='https://datasciencedemo.esri.com/portal/home/js/arcgisonline/css/images/no-user-thumb.jpg' class=\"itemThumbnail\">\n",
       "                       </a>\n",
       "                    </div>\n",
       "\n",
       "                    <div class=\"item_right\" style=\"float: none; width: auto; overflow: hidden;\">\n",
       "                        <a href='https://datasciencedemo.esri.com/portal/home/user.html?user=mwalther' target='_blank'><b>Milq Walther-Rodriguez</b>\n",
       "                        </a>\n",
       "                        <br/><br/><b>Bio</b>: None\n",
       "                        <br/><b>First Name</b>: Milq\n",
       "                        <br/><b>Last Name</b>: Walther-Rodriguez\n",
       "                        <br/><b>Username</b>: mwalther\n",
       "                        <br/><b>Joined</b>: July 10, 2019\n",
       "\n",
       "                    </div>\n",
       "                </div>\n",
       "                "
      ],
      "text/plain": [
       "<User username:mwalther>"
      ]
     },
     "metadata": {},
     "output_type": "display_data"
    },
    {
     "data": {
      "text/html": [
       "<div class=\"9item_container\" style=\"height: auto; overflow: hidden; border: 1px solid #cfcfcf; border-radius: 2px; background: #f6fafa; line-height: 1.21429em; padding: 10px;\">\n",
       "                    <div class=\"item_left\" style=\"width: 210px; float: left;\">\n",
       "                       <a href='https://datasciencedemo.esri.com/portal/home/user.html?user=klevy' target='_blank'>\n",
       "                        <img src='https://datasciencedemo.esri.com/portal/home/js/arcgisonline/css/images/no-user-thumb.jpg' class=\"itemThumbnail\">\n",
       "                       </a>\n",
       "                    </div>\n",
       "\n",
       "                    <div class=\"item_right\" style=\"float: none; width: auto; overflow: hidden;\">\n",
       "                        <a href='https://datasciencedemo.esri.com/portal/home/user.html?user=klevy' target='_blank'><b>Kate Levy</b>\n",
       "                        </a>\n",
       "                        <br/><br/><b>Bio</b>: None\n",
       "                        <br/><b>First Name</b>: Kate\n",
       "                        <br/><b>Last Name</b>: Levy\n",
       "                        <br/><b>Username</b>: klevy\n",
       "                        <br/><b>Joined</b>: July 10, 2019\n",
       "\n",
       "                    </div>\n",
       "                </div>\n",
       "                "
      ],
      "text/plain": [
       "<User username:klevy>"
      ]
     },
     "metadata": {},
     "output_type": "display_data"
    },
    {
     "data": {
      "text/html": [
       "<div class=\"9item_container\" style=\"height: auto; overflow: hidden; border: 1px solid #cfcfcf; border-radius: 2px; background: #f6fafa; line-height: 1.21429em; padding: 10px;\">\n",
       "                    <div class=\"item_left\" style=\"width: 210px; float: left;\">\n",
       "                       <a href='https://datasciencedemo.esri.com/portal/home/user.html?user=rbernstein' target='_blank'>\n",
       "                        <img src='https://datasciencedemo.esri.com/portal/home/js/arcgisonline/css/images/no-user-thumb.jpg' class=\"itemThumbnail\">\n",
       "                       </a>\n",
       "                    </div>\n",
       "\n",
       "                    <div class=\"item_right\" style=\"float: none; width: auto; overflow: hidden;\">\n",
       "                        <a href='https://datasciencedemo.esri.com/portal/home/user.html?user=rbernstein' target='_blank'><b>Renee Bernstein</b>\n",
       "                        </a>\n",
       "                        <br/><br/><b>Bio</b>: None\n",
       "                        <br/><b>First Name</b>: Renee\n",
       "                        <br/><b>Last Name</b>: Bernstein\n",
       "                        <br/><b>Username</b>: rbernstein\n",
       "                        <br/><b>Joined</b>: July 10, 2019\n",
       "\n",
       "                    </div>\n",
       "                </div>\n",
       "                "
      ],
      "text/plain": [
       "<User username:rbernstein>"
      ]
     },
     "metadata": {},
     "output_type": "display_data"
    },
    {
     "data": {
      "text/html": [
       "<div class=\"9item_container\" style=\"height: auto; overflow: hidden; border: 1px solid #cfcfcf; border-radius: 2px; background: #f6fafa; line-height: 1.21429em; padding: 10px;\">\n",
       "                    <div class=\"item_left\" style=\"width: 210px; float: left;\">\n",
       "                       <a href='https://datasciencedemo.esri.com/portal/home/user.html?user=jfry' target='_blank'>\n",
       "                        <img src='https://datasciencedemo.esri.com/portal/home/js/arcgisonline/css/images/no-user-thumb.jpg' class=\"itemThumbnail\">\n",
       "                       </a>\n",
       "                    </div>\n",
       "\n",
       "                    <div class=\"item_right\" style=\"float: none; width: auto; overflow: hidden;\">\n",
       "                        <a href='https://datasciencedemo.esri.com/portal/home/user.html?user=jfry' target='_blank'><b>John Fry</b>\n",
       "                        </a>\n",
       "                        <br/><br/><b>Bio</b>: None\n",
       "                        <br/><b>First Name</b>: John\n",
       "                        <br/><b>Last Name</b>: Fry\n",
       "                        <br/><b>Username</b>: jfry\n",
       "                        <br/><b>Joined</b>: July 10, 2019\n",
       "\n",
       "                    </div>\n",
       "                </div>\n",
       "                "
      ],
      "text/plain": [
       "<User username:jfry>"
      ]
     },
     "metadata": {},
     "output_type": "display_data"
    },
    {
     "data": {
      "text/html": [
       "<div class=\"9item_container\" style=\"height: auto; overflow: hidden; border: 1px solid #cfcfcf; border-radius: 2px; background: #f6fafa; line-height: 1.21429em; padding: 10px;\">\n",
       "                    <div class=\"item_left\" style=\"width: 210px; float: left;\">\n",
       "                       <a href='https://datasciencedemo.esri.com/portal/home/user.html?user=tquink' target='_blank'>\n",
       "                        <img src='https://datasciencedemo.esri.com/portal/home/js/arcgisonline/css/images/no-user-thumb.jpg' class=\"itemThumbnail\">\n",
       "                       </a>\n",
       "                    </div>\n",
       "\n",
       "                    <div class=\"item_right\" style=\"float: none; width: auto; overflow: hidden;\">\n",
       "                        <a href='https://datasciencedemo.esri.com/portal/home/user.html?user=tquink' target='_blank'><b>Tyson Quink</b>\n",
       "                        </a>\n",
       "                        <br/><br/><b>Bio</b>: None\n",
       "                        <br/><b>First Name</b>: Tyson\n",
       "                        <br/><b>Last Name</b>: Quink\n",
       "                        <br/><b>Username</b>: tquink\n",
       "                        <br/><b>Joined</b>: July 10, 2019\n",
       "\n",
       "                    </div>\n",
       "                </div>\n",
       "                "
      ],
      "text/plain": [
       "<User username:tquink>"
      ]
     },
     "metadata": {},
     "output_type": "display_data"
    },
    {
     "data": {
      "text/html": [
       "<div class=\"9item_container\" style=\"height: auto; overflow: hidden; border: 1px solid #cfcfcf; border-radius: 2px; background: #f6fafa; line-height: 1.21429em; padding: 10px;\">\n",
       "                    <div class=\"item_left\" style=\"width: 210px; float: left;\">\n",
       "                       <a href='https://datasciencedemo.esri.com/portal/home/user.html?user=agator' target='_blank'>\n",
       "                        <img src='https://datasciencedemo.esri.com/portal/home/js/arcgisonline/css/images/no-user-thumb.jpg' class=\"itemThumbnail\">\n",
       "                       </a>\n",
       "                    </div>\n",
       "\n",
       "                    <div class=\"item_right\" style=\"float: none; width: auto; overflow: hidden;\">\n",
       "                        <a href='https://datasciencedemo.esri.com/portal/home/user.html?user=agator' target='_blank'><b>Albert Gator</b>\n",
       "                        </a>\n",
       "                        <br/><br/><b>Bio</b>: None\n",
       "                        <br/><b>First Name</b>: Albert\n",
       "                        <br/><b>Last Name</b>: Gator\n",
       "                        <br/><b>Username</b>: agator\n",
       "                        <br/><b>Joined</b>: July 10, 2019\n",
       "\n",
       "                    </div>\n",
       "                </div>\n",
       "                "
      ],
      "text/plain": [
       "<User username:agator>"
      ]
     },
     "metadata": {},
     "output_type": "display_data"
    },
    {
     "data": {
      "text/html": [
       "<div class=\"9item_container\" style=\"height: auto; overflow: hidden; border: 1px solid #cfcfcf; border-radius: 2px; background: #f6fafa; line-height: 1.21429em; padding: 10px;\">\n",
       "                    <div class=\"item_left\" style=\"width: 210px; float: left;\">\n",
       "                       <a href='https://datasciencedemo.esri.com/portal/home/user.html?user=emapper' target='_blank'>\n",
       "                        <img src='https://datasciencedemo.esri.com/portal/home/js/arcgisonline/css/images/no-user-thumb.jpg' class=\"itemThumbnail\">\n",
       "                       </a>\n",
       "                    </div>\n",
       "\n",
       "                    <div class=\"item_right\" style=\"float: none; width: auto; overflow: hidden;\">\n",
       "                        <a href='https://datasciencedemo.esri.com/portal/home/user.html?user=emapper' target='_blank'><b>Esri Mapper</b>\n",
       "                        </a>\n",
       "                        <br/><br/><b>Bio</b>: None\n",
       "                        <br/><b>First Name</b>: Esri\n",
       "                        <br/><b>Last Name</b>: Mapper\n",
       "                        <br/><b>Username</b>: emapper\n",
       "                        <br/><b>Joined</b>: July 10, 2019\n",
       "\n",
       "                    </div>\n",
       "                </div>\n",
       "                "
      ],
      "text/plain": [
       "<User username:emapper>"
      ]
     },
     "metadata": {},
     "output_type": "display_data"
    }
   ],
   "source": [
    "for usr_obj in demo_userobjects_list:\n",
    "    display(usr_obj)"
   ]
  },
  {
   "cell_type": "markdown",
   "metadata": {},
   "source": [
    "Now we use the list of solution engineer usernames to add it to the Solution Engineers group using its object's method"
   ]
  },
  {
   "cell_type": "code",
   "execution_count": 23,
   "metadata": {},
   "outputs": [
    {
     "data": {
      "text/plain": [
       "{'notAdded': []}"
      ]
     },
     "execution_count": 23,
     "metadata": {},
     "output_type": "execute_result"
    }
   ],
   "source": [
    "demo_group.add_users(demo_users_list)"
   ]
  },
  {
   "cell_type": "code",
   "execution_count": 24,
   "metadata": {},
   "outputs": [
    {
     "data": {
      "text/plain": [
       "{'owner': 'anieto',\n",
       " 'admins': ['anieto'],\n",
       " 'users': ['agator',\n",
       "  'emapper',\n",
       "  'jfry',\n",
       "  'klevy',\n",
       "  'mwalther',\n",
       "  'rbernstein',\n",
       "  'tquink']}"
      ]
     },
     "execution_count": 24,
     "metadata": {},
     "output_type": "execute_result"
    }
   ],
   "source": [
    "demo_group.get_members()"
   ]
  },
  {
   "cell_type": "code",
   "execution_count": 25,
   "metadata": {},
   "outputs": [
    {
     "data": {
      "text/html": [
       "<div class=\"9item_container\" style=\"height: auto; overflow: hidden; border: 1px solid #cfcfcf; border-radius: 2px; background: #f6fafa; line-height: 1.21429em; padding: 10px;\">\n",
       "                    <div class=\"item_left\" style=\"width: 210px; float: left;\">\n",
       "                       <a href='https://datasciencedemo.esri.com/portal/home/group.html?id=e52daa76bc424193886fae9aa402257d' target='_blank'>\n",
       "                        <img src='https://datasciencedemo.esri.com/portal/home/images/group-no-image.png' class=\"itemThumbnail\">\n",
       "                       </a>\n",
       "                    </div>\n",
       "\n",
       "                    <div class=\"item_right\" style=\"float: none; width: auto; overflow: hidden;\">\n",
       "                        <a href='https://datasciencedemo.esri.com/portal/home/group.html?id=e52daa76bc424193886fae9aa402257d' target='_blank'><b>UC2019</b>\n",
       "                        </a>\n",
       "                        <br/>\n",
       "                        <br/><b>Summary</b>: None\n",
       "                        <br/><b>Description</b>: None\n",
       "                        <br/><b>Owner</b>: anieto\n",
       "                        <br/><b>Created</b>: July 10, 2019\n",
       "\n",
       "                    </div>\n",
       "                </div>\n",
       "                "
      ],
      "text/plain": [
       "<Group title:\"UC2019\" owner:anieto>"
      ]
     },
     "execution_count": 25,
     "metadata": {},
     "output_type": "execute_result"
    }
   ],
   "source": [
    "demo_group"
   ]
  },
  {
   "cell_type": "markdown",
   "metadata": {},
   "source": [
    "## So we automatically created users, gave them privileges, created a group, and added users to the group... Now what?"
   ]
  },
  {
   "cell_type": "markdown",
   "metadata": {},
   "source": [
    "# Boss: \n",
    "\n",
    "## \"We found out that we have to remove every user from every Portal and ArcGIS Online organization we added them to.\n",
    "\n",
    "## We also have to do it fast and leave everything nice and tidy!\"\n",
    "\n",
    "## CHOP CHOP!\""
   ]
  },
  {
   "cell_type": "markdown",
   "metadata": {},
   "source": [
    "<img src=\"img/tenor.gif\">"
   ]
  },
  {
   "cell_type": "markdown",
   "metadata": {},
   "source": [
    "<img src=\"img/tangled_cables.jpg\" style=\"width:100%\"></img>"
   ]
  },
  {
   "cell_type": "markdown",
   "metadata": {},
   "source": [
    "## Have no fear! The ArcGIS API for Python is here to help."
   ]
  },
  {
   "cell_type": "markdown",
   "metadata": {},
   "source": [
    "We're going to use the list of user objects to call their delete method and clean up after ourselves. \n",
    "\n",
    "Hint: This is also the way I clean up after my own self for this demo!"
   ]
  },
  {
   "cell_type": "code",
   "execution_count": 26,
   "metadata": {},
   "outputs": [
    {
     "data": {
      "text/plain": [
       "{'notRemoved': []}"
      ]
     },
     "execution_count": 26,
     "metadata": {},
     "output_type": "execute_result"
    }
   ],
   "source": [
    "# Remove users from the se_group\n",
    "demo_group.remove_users(demo_users_list)"
   ]
  },
  {
   "cell_type": "code",
   "execution_count": 27,
   "metadata": {
    "scrolled": true
   },
   "outputs": [
    {
     "name": "stdout",
     "output_type": "stream",
     "text": [
      "Removing user mwalther...\n",
      "Removing user klevy...\n",
      "Removing user rbernstein...\n",
      "Removing user jfry...\n",
      "Removing user tquink...\n",
      "Removing user agator...\n",
      "Removing user emapper...\n"
     ]
    }
   ],
   "source": [
    "# Clean up users\n",
    "for user_obj in demo_userobjects_list:\n",
    "    print(\"Removing user {0}...\".format(user_obj.username))\n",
    "    user_obj.delete()"
   ]
  },
  {
   "cell_type": "code",
   "execution_count": 28,
   "metadata": {},
   "outputs": [
    {
     "data": {
      "text/plain": [
       "True"
      ]
     },
     "execution_count": 28,
     "metadata": {},
     "output_type": "execute_result"
    }
   ],
   "source": [
    "# Clean up group as well\n",
    "demo_group.delete()"
   ]
  },
  {
   "cell_type": "markdown",
   "metadata": {},
   "source": [
    "## You could also quickly create a script that takes a threshold for the last login date for each user, and removes the user if they have not signed in recently enough.\n",
    "\n",
    "### ... or if you want to be nice, you can use the smtplib library in Python to send them a warning e-mail."
   ]
  }
 ],
 "metadata": {
  "kernelspec": {
   "display_name": "Python 3",
   "language": "python",
   "name": "python3"
  },
  "language_info": {
   "codemirror_mode": {
    "name": "ipython",
    "version": 3
   },
   "file_extension": ".py",
   "mimetype": "text/x-python",
   "name": "python",
   "nbconvert_exporter": "python",
   "pygments_lexer": "ipython3",
   "version": "3.7.3"
  }
 },
 "nbformat": 4,
 "nbformat_minor": 2
}
