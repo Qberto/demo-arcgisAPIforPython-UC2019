{
 "cells": [
  {
   "cell_type": "markdown",
   "metadata": {
    "slideshow": {
     "slide_type": "slide"
    }
   },
   "source": [
    "<img src=\"img/title.png\"></img>"
   ]
  },
  {
   "cell_type": "markdown",
   "metadata": {
    "slideshow": {
     "slide_type": "subslide"
    }
   },
   "source": [
    "<img src=\"img/GISIntelligentNervousSystem.PNG\" align=\"center\"></img>"
   ]
  },
  {
   "cell_type": "markdown",
   "metadata": {
    "slideshow": {
     "slide_type": "subslide"
    }
   },
   "source": [
    "### An Intelligent Nervous System doesn't run on its own..."
   ]
  },
  {
   "cell_type": "markdown",
   "metadata": {
    "slideshow": {
     "slide_type": "fragment"
    }
   },
   "source": [
    "### ... we need to design it, deploy it, and nurture it. "
   ]
  },
  {
   "cell_type": "markdown",
   "metadata": {
    "slideshow": {
     "slide_type": "fragment"
    }
   },
   "source": [
    "### To do this successfully, we need access to <span style=\"color:purple\">powerful tools and capabilities.</span>"
   ]
  },
  {
   "cell_type": "markdown",
   "metadata": {
    "slideshow": {
     "slide_type": "subslide"
    }
   },
   "source": [
    "## The <span style=\"color:green\">Python Ecosystem</span> brings a powerful set of tools when interacting with a GIS.\n",
    "\n",
    "<img src=\"img/arcgis_python_logo01.png\" width=\"50%\" height=\"50%\"></img>\n",
    "\n",
    "## Python has the potential to help every member of an organization's GIS team by introducing automation, adding analytical capabilities, and making the experience accessible."
   ]
  },
  {
   "cell_type": "markdown",
   "metadata": {
    "slideshow": {
     "slide_type": "subslide"
    }
   },
   "source": [
    "#### If you are a <span style=\"color:blue\">GIS Administrator</span>, you can use Python to automate tasks relating to management of users, groups, and items. Free yourself of monotonous activities."
   ]
  },
  {
   "cell_type": "markdown",
   "metadata": {
    "slideshow": {
     "slide_type": "fragment"
    }
   },
   "source": [
    "#### If you are a <span style=\"color:green\">GIS Content Publisher</span>, you can use Python to set up processes that will automatically publish mass content or easily move content from one Portal to another. Make your content part of a reliable and frequently updated process."
   ]
  },
  {
   "cell_type": "markdown",
   "metadata": {
    "slideshow": {
     "slide_type": "fragment"
    }
   },
   "source": [
    "#### If you are a <span style=\"color:Purple\"> Front-end Developer</span>, you can build dashboards and Jupyter Notebook extensions to explore interation with data and tools. Stand up a simple but useful application in minutes."
   ]
  },
  {
   "cell_type": "markdown",
   "metadata": {
    "slideshow": {
     "slide_type": "fragment"
    }
   },
   "source": [
    "#### If you are a <span style=\"color:red\">GIS Analyst</span>, you can leverage Python and its powerful data analysis libraries. Enrich your analysis with Python's suite of data science capabilities."
   ]
  },
  {
   "cell_type": "markdown",
   "metadata": {
    "slideshow": {
     "slide_type": "fragment"
    }
   },
   "source": [
    "#### If you don't even use GIS but you are a <span style=\"color:maroon\">Data Scientist</span> , you can now connect to a GIS and use spatial capabilities to enrich and extend your analysis. See what all this \"GIS\" buzz is about."
   ]
  },
  {
   "cell_type": "markdown",
   "metadata": {
    "slideshow": {
     "slide_type": "slide"
    }
   },
   "source": [
    "### Before we take a look at specific examples, let's align on terminology...\n",
    "\n",
    "## <span style=\"color: green\">> Python</span>    \n",
    "## <span style=\"color: Orange\">>    Jupyter Notebook</span>\n",
    "## <span style=\"color:purple\">>        ArcGIS API for Python</span>\n",
    "## <span style=\"color: Blue\">>            ArcGIS Notebooks</span>"
   ]
  },
  {
   "cell_type": "markdown",
   "metadata": {
    "slideshow": {
     "slide_type": "subslide"
    }
   },
   "source": [
    "# <span style=\"color:green\">Python</span> \n",
    "\n",
    "#### ~~A family of nonvenomous snakes found in Africa, Asia, and Australia.~~\n",
    "#### A beautiful programming language that emphasizes readibility."
   ]
  },
  {
   "cell_type": "code",
   "execution_count": null,
   "metadata": {
    "scrolled": true,
    "slideshow": {
     "slide_type": "fragment"
    }
   },
   "outputs": [],
   "source": [
    "import this"
   ]
  },
  {
   "cell_type": "markdown",
   "metadata": {
    "slideshow": {
     "slide_type": "subslide"
    }
   },
   "source": [
    "# <span style=\"color:green\">Python</span> "
   ]
  },
  {
   "cell_type": "markdown",
   "metadata": {
    "slideshow": {
     "slide_type": "-"
    }
   },
   "source": [
    "#### Widely adopted in the GIS community."
   ]
  },
  {
   "cell_type": "markdown",
   "metadata": {
    "slideshow": {
     "slide_type": "-"
    }
   },
   "source": [
    "#### Widely adopted in the Data Science community."
   ]
  },
  {
   "cell_type": "markdown",
   "metadata": {
    "slideshow": {
     "slide_type": "-"
    }
   },
   "source": [
    "#### Widely adopted in the dev-ops community."
   ]
  },
  {
   "cell_type": "markdown",
   "metadata": {
    "slideshow": {
     "slide_type": "-"
    }
   },
   "source": [
    "### Widely adopted everywhere!"
   ]
  },
  {
   "cell_type": "markdown",
   "metadata": {
    "slideshow": {
     "slide_type": "subslide"
    }
   },
   "source": [
    "# <span style=\"color: Blue\">Jupyter Notebook</span>"
   ]
  },
  {
   "cell_type": "markdown",
   "metadata": {
    "slideshow": {
     "slide_type": "fragment"
    }
   },
   "source": [
    "#### Allows Python users to create and share documents containing Live Code in \"cells\":"
   ]
  },
  {
   "cell_type": "code",
   "execution_count": 4,
   "metadata": {},
   "outputs": [
    {
     "name": "stdout",
     "output_type": "stream",
     "text": [
      "Hello UC 2019\n"
     ]
    }
   ],
   "source": [
    "print(\"Hello UC 2019\")"
   ]
  },
  {
   "cell_type": "markdown",
   "metadata": {
    "slideshow": {
     "slide_type": "slide"
    }
   },
   "source": [
    "# <span style=\"color: Blue\">Jupyter Notebook</span>"
   ]
  },
  {
   "cell_type": "markdown",
   "metadata": {
    "slideshow": {
     "slide_type": "subslide"
    }
   },
   "source": [
    "#### Cells have all the capabilities of an executable command interface..."
   ]
  },
  {
   "cell_type": "code",
   "execution_count": 2,
   "metadata": {
    "slideshow": {
     "slide_type": "fragment"
    }
   },
   "outputs": [],
   "source": [
    "def chicken_function():\n",
    "    return egg_function()\n",
    "\n",
    "def egg_function():\n",
    "    return chicken_function()"
   ]
  },
  {
   "cell_type": "code",
   "execution_count": null,
   "metadata": {
    "scrolled": true,
    "slideshow": {
     "slide_type": "fragment"
    }
   },
   "outputs": [],
   "source": [
    "chicken_function()"
   ]
  },
  {
   "cell_type": "markdown",
   "metadata": {
    "slideshow": {
     "slide_type": "fragment"
    }
   },
   "source": [
    "<img src=\"img/mind_blown.gif\">"
   ]
  },
  {
   "cell_type": "markdown",
   "metadata": {
    "slideshow": {
     "slide_type": "subslide"
    }
   },
   "source": [
    "# <span style=\"color: Blue\">Jupyter Notebook</span>"
   ]
  },
  {
   "cell_type": "markdown",
   "metadata": {
    "slideshow": {
     "slide_type": "-"
    }
   },
   "source": [
    "#### Cells have all the capabilities of an executable command interface..."
   ]
  },
  {
   "cell_type": "code",
   "execution_count": 1,
   "metadata": {
    "slideshow": {
     "slide_type": "skip"
    }
   },
   "outputs": [],
   "source": [
    "import time\n",
    "def return_best_university(all_universities=None):\n",
    "    print(\"Processing University data...\")\n",
    "    \n",
    "    time.sleep(1)\n",
    "    print(\"...\")\n",
    "    \n",
    "    time.sleep(2)\n",
    "       \n",
    "    print(\"Found corrupt records in data... [Florida State University, University of Georgia]. Cleaning garbage records...\")\n",
    "    \n",
    "    time.sleep(2)\n",
    "    \n",
    "    print(\"Data cleaned. Now performing analysis...\")\n",
    "    \n",
    "    time.sleep(1)\n",
    "    print(\"...\")\n",
    "    time.sleep(1)\n",
    "    print(\"...\")\n",
    "    time.sleep(1)\n",
    "    print(\"...\")\n",
    "    \n",
    "    time.sleep(1)\n",
    "    print(\"Determining final rankings on all possible variables...\")\n",
    "    \n",
    "    time.sleep(2)\n",
    "    \n",
    "    print(\"Solution found...\")\n",
    "    \n",
    "    print(\"Solution: University of Florida\")\n",
    "    return(\"University of Florida\")"
   ]
  },
  {
   "cell_type": "code",
   "execution_count": 5,
   "metadata": {
    "slideshow": {
     "slide_type": "fragment"
    }
   },
   "outputs": [
    {
     "name": "stdout",
     "output_type": "stream",
     "text": [
      "Processing University data...\n",
      "...\n",
      "Found corrupt records in data... [Florida State University, University of Georgia]. Cleaning garbage records...\n",
      "Data cleaned. Now performing analysis...\n",
      "...\n",
      "...\n",
      "...\n",
      "Determining final rankings on all possible variables...\n",
      "Solution found...\n",
      "Solution: University of Florida\n"
     ]
    },
    {
     "data": {
      "text/plain": [
       "'University of Florida'"
      ]
     },
     "execution_count": 5,
     "metadata": {},
     "output_type": "execute_result"
    }
   ],
   "source": [
    "# This function contains extensive analysis of academic rankings and overall good taste\n",
    "return_best_university()"
   ]
  },
  {
   "cell_type": "markdown",
   "metadata": {
    "slideshow": {
     "slide_type": "subslide"
    }
   },
   "source": [
    "# <span style=\"color: Blue\">Jupyter Notebook</span>"
   ]
  },
  {
   "cell_type": "markdown",
   "metadata": {
    "slideshow": {
     "slide_type": "-"
    }
   },
   "source": [
    "#### Allows Python users to create and share documents containing explanatory text & documentation"
   ]
  },
  {
   "cell_type": "markdown",
   "metadata": {
    "slideshow": {
     "slide_type": "fragment"
    }
   },
   "source": [
    "### In fact... this whole presentation was written on a Jupyter Notebook!"
   ]
  },
  {
   "cell_type": "markdown",
   "metadata": {
    "slideshow": {
     "slide_type": "subslide"
    }
   },
   "source": [
    "# <span style=\"color: Blue\">Jupyter Notebook</span>"
   ]
  },
  {
   "cell_type": "markdown",
   "metadata": {
    "slideshow": {
     "slide_type": "-"
    }
   },
   "source": [
    "#### Allows Python users to create and share documents containing visualizations"
   ]
  },
  {
   "cell_type": "code",
   "execution_count": 6,
   "metadata": {
    "slideshow": {
     "slide_type": "fragment"
    }
   },
   "outputs": [
    {
     "data": {
      "text/html": [
       "<div>\n",
       "<style scoped>\n",
       "    .dataframe tbody tr th:only-of-type {\n",
       "        vertical-align: middle;\n",
       "    }\n",
       "\n",
       "    .dataframe tbody tr th {\n",
       "        vertical-align: top;\n",
       "    }\n",
       "\n",
       "    .dataframe thead th {\n",
       "        text-align: right;\n",
       "    }\n",
       "</style>\n",
       "<table border=\"1\" class=\"dataframe\">\n",
       "  <thead>\n",
       "    <tr style=\"text-align: right;\">\n",
       "      <th></th>\n",
       "      <th>A</th>\n",
       "      <th>B</th>\n",
       "      <th>C</th>\n",
       "      <th>D</th>\n",
       "      <th>E</th>\n",
       "      <th>F</th>\n",
       "      <th>G</th>\n",
       "      <th>H</th>\n",
       "      <th>I</th>\n",
       "      <th>J</th>\n",
       "    </tr>\n",
       "  </thead>\n",
       "  <tbody>\n",
       "    <tr>\n",
       "      <th>2013-01-01</th>\n",
       "      <td>2.472963</td>\n",
       "      <td>0.778712</td>\n",
       "      <td>0.041952</td>\n",
       "      <td>-0.030023</td>\n",
       "      <td>-0.421674</td>\n",
       "      <td>-1.665137</td>\n",
       "      <td>-0.568580</td>\n",
       "      <td>-1.341668</td>\n",
       "      <td>0.626059</td>\n",
       "      <td>-0.457515</td>\n",
       "    </tr>\n",
       "    <tr>\n",
       "      <th>2013-01-02</th>\n",
       "      <td>0.476811</td>\n",
       "      <td>2.137642</td>\n",
       "      <td>-0.139726</td>\n",
       "      <td>-0.512201</td>\n",
       "      <td>-1.441496</td>\n",
       "      <td>1.504174</td>\n",
       "      <td>1.729677</td>\n",
       "      <td>-0.888077</td>\n",
       "      <td>0.172277</td>\n",
       "      <td>-0.375746</td>\n",
       "    </tr>\n",
       "    <tr>\n",
       "      <th>2013-01-03</th>\n",
       "      <td>0.968553</td>\n",
       "      <td>-0.992241</td>\n",
       "      <td>-0.958143</td>\n",
       "      <td>-0.875551</td>\n",
       "      <td>-0.469200</td>\n",
       "      <td>-0.792220</td>\n",
       "      <td>-0.867212</td>\n",
       "      <td>0.408000</td>\n",
       "      <td>-0.644273</td>\n",
       "      <td>-1.430249</td>\n",
       "    </tr>\n",
       "    <tr>\n",
       "      <th>2013-01-04</th>\n",
       "      <td>-0.696918</td>\n",
       "      <td>-1.020437</td>\n",
       "      <td>0.991102</td>\n",
       "      <td>-1.459813</td>\n",
       "      <td>0.492168</td>\n",
       "      <td>-0.100905</td>\n",
       "      <td>-0.068699</td>\n",
       "      <td>-0.633102</td>\n",
       "      <td>1.365716</td>\n",
       "      <td>1.189490</td>\n",
       "    </tr>\n",
       "    <tr>\n",
       "      <th>2013-01-05</th>\n",
       "      <td>-0.567619</td>\n",
       "      <td>-0.715803</td>\n",
       "      <td>-0.472690</td>\n",
       "      <td>0.184928</td>\n",
       "      <td>-0.474617</td>\n",
       "      <td>1.575787</td>\n",
       "      <td>0.444551</td>\n",
       "      <td>-0.074405</td>\n",
       "      <td>-1.242062</td>\n",
       "      <td>0.976474</td>\n",
       "    </tr>\n",
       "    <tr>\n",
       "      <th>2013-01-06</th>\n",
       "      <td>0.738936</td>\n",
       "      <td>0.312319</td>\n",
       "      <td>1.768276</td>\n",
       "      <td>-0.706210</td>\n",
       "      <td>1.197041</td>\n",
       "      <td>1.972419</td>\n",
       "      <td>-0.643301</td>\n",
       "      <td>1.976822</td>\n",
       "      <td>-0.866352</td>\n",
       "      <td>0.232740</td>\n",
       "    </tr>\n",
       "  </tbody>\n",
       "</table>\n",
       "</div>"
      ],
      "text/plain": [
       "                   A         B         C         D         E         F  \\\n",
       "2013-01-01  2.472963  0.778712  0.041952 -0.030023 -0.421674 -1.665137   \n",
       "2013-01-02  0.476811  2.137642 -0.139726 -0.512201 -1.441496  1.504174   \n",
       "2013-01-03  0.968553 -0.992241 -0.958143 -0.875551 -0.469200 -0.792220   \n",
       "2013-01-04 -0.696918 -1.020437  0.991102 -1.459813  0.492168 -0.100905   \n",
       "2013-01-05 -0.567619 -0.715803 -0.472690  0.184928 -0.474617  1.575787   \n",
       "2013-01-06  0.738936  0.312319  1.768276 -0.706210  1.197041  1.972419   \n",
       "\n",
       "                   G         H         I         J  \n",
       "2013-01-01 -0.568580 -1.341668  0.626059 -0.457515  \n",
       "2013-01-02  1.729677 -0.888077  0.172277 -0.375746  \n",
       "2013-01-03 -0.867212  0.408000 -0.644273 -1.430249  \n",
       "2013-01-04 -0.068699 -0.633102  1.365716  1.189490  \n",
       "2013-01-05  0.444551 -0.074405 -1.242062  0.976474  \n",
       "2013-01-06 -0.643301  1.976822 -0.866352  0.232740  "
      ]
     },
     "execution_count": 6,
     "metadata": {},
     "output_type": "execute_result"
    }
   ],
   "source": [
    "import pandas as pd\n",
    "import numpy as np\n",
    "\n",
    "dates = pd.date_range('20130101', periods=6)\n",
    "dates\n",
    "\n",
    "df = pd.DataFrame(np.random.randn(6,10), index=dates, columns=list('ABCDEFGHIJ'))\n",
    "df"
   ]
  },
  {
   "cell_type": "markdown",
   "metadata": {
    "slideshow": {
     "slide_type": "subslide"
    }
   },
   "source": [
    "# <span style=\"color: Blue\">Jupyter Notebook</span>"
   ]
  },
  {
   "cell_type": "markdown",
   "metadata": {
    "slideshow": {
     "slide_type": "-"
    }
   },
   "source": [
    "#### Allows Python users to create and share documents containing visualizations"
   ]
  },
  {
   "cell_type": "code",
   "execution_count": 3,
   "metadata": {},
   "outputs": [
    {
     "data": {
      "application/vnd.jupyter.widget-view+json": {
       "model_id": "8b6533782f1a423d8e223b69ca64627a",
       "version_major": 2,
       "version_minor": 0
      },
      "text/plain": [
       "MapView(layout=Layout(height='400px', width='100%'))"
      ]
     },
     "metadata": {},
     "output_type": "display_data"
    },
    {
     "data": {
      "text/html": [
       "<div class=\"map-static-img-preview-5b9a7396-87ad-41b3-932b-364e33474d39\"><img src=\"\"></img></div>"
      ],
      "text/plain": [
       "<IPython.core.display.HTML object>"
      ]
     },
     "metadata": {},
     "output_type": "display_data"
    }
   ],
   "source": [
    "from arcgis.gis import GIS\n",
    "my_gis = GIS()\n",
    "my_gis.map()"
   ]
  },
  {
   "cell_type": "markdown",
   "metadata": {
    "slideshow": {
     "slide_type": "subslide"
    }
   },
   "source": [
    "# <span style=\"color:purple\">ArcGIS API for Python</span>"
   ]
  },
  {
   "cell_type": "markdown",
   "metadata": {},
   "source": [
    "<img src=\"img/APISummary.PNG\" style=\"width:100%\">"
   ]
  },
  {
   "cell_type": "markdown",
   "metadata": {},
   "source": [
    "An API for the Geospatial Cloud."
   ]
  }
 ],
 "metadata": {
  "celltoolbar": "Slideshow",
  "kernelspec": {
   "display_name": "Python 3",
   "language": "python",
   "name": "python3"
  },
  "language_info": {
   "codemirror_mode": {
    "name": "ipython",
    "version": 3
   },
   "file_extension": ".py",
   "mimetype": "text/x-python",
   "name": "python",
   "nbconvert_exporter": "python",
   "pygments_lexer": "ipython3",
   "version": "3.7.3"
  }
 },
 "nbformat": 4,
 "nbformat_minor": 2
}
